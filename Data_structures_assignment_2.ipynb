{
  "nbformat": 4,
  "nbformat_minor": 0,
  "metadata": {
    "colab": {
      "provenance": []
    },
    "kernelspec": {
      "name": "python3",
      "display_name": "Python 3"
    },
    "language_info": {
      "name": "python"
    }
  },
  "cells": [
    {
      "cell_type": "markdown",
      "source": [
        "Data Types And Structures Assignment Questions"
      ],
      "metadata": {
        "id": "IMUWhSO2cKhQ"
      }
    },
    {
      "cell_type": "markdown",
      "source": [
        "1) What are the data structures , and why are they important?"
      ],
      "metadata": {
        "id": "jrltlA5TcxEc"
      }
    },
    {
      "cell_type": "markdown",
      "source": [
        "ans: Data Structures is a way to store the data in an efficient manner. they organise , store and collect the data.\n",
        "They are important because-\n",
        "a)to choose the right data structure which helps to impact the efficiency and performance of your program. b) simplify data manipulation. c) optimise searching and sorting operations. d) converse memory use.\n"
      ],
      "metadata": {
        "id": "7yB2XqPXc4hK"
      }
    },
    {
      "cell_type": "markdown",
      "source": [
        "2) explain the difference between mutable and immutable data types with examples."
      ],
      "metadata": {
        "id": "brVr-cb6eKW_"
      }
    },
    {
      "cell_type": "markdown",
      "source": [
        "ans: Mutable Data : that can be changed after creation.\n",
        "examples are list , dictionary, set.\n",
        "Immutable Data: that cannot be changed after creation.\n",
        "examples are string , tuple."
      ],
      "metadata": {
        "id": "RaWZm4j2evPD"
      }
    },
    {
      "cell_type": "code",
      "source": [
        "#example of mutable data\n",
        "my_list = [1,2,3]\n",
        "my_list[1] = 100\n",
        "print(my_list)"
      ],
      "metadata": {
        "colab": {
          "base_uri": "https://localhost:8080/"
        },
        "id": "meTBbkZ7feqb",
        "outputId": "0fe92f9d-f227-4cb7-e4a6-ea7087f3291c"
      },
      "execution_count": null,
      "outputs": [
        {
          "output_type": "stream",
          "name": "stdout",
          "text": [
            "[1, 100, 3]\n"
          ]
        }
      ]
    },
    {
      "cell_type": "code",
      "source": [
        "# example of immutable data\n",
        "my_str = \"hello\"\n",
        "my_str[0] = \"H\"\n",
        "print(my_str)"
      ],
      "metadata": {
        "colab": {
          "base_uri": "https://localhost:8080/",
          "height": 193
        },
        "id": "2fnUT9Adf7qn",
        "outputId": "34c63cac-f08d-4dcb-cfe7-c0521481abf3"
      },
      "execution_count": null,
      "outputs": [
        {
          "output_type": "error",
          "ename": "TypeError",
          "evalue": "'str' object does not support item assignment",
          "traceback": [
            "\u001b[0;31m---------------------------------------------------------------------------\u001b[0m",
            "\u001b[0;31mTypeError\u001b[0m                                 Traceback (most recent call last)",
            "\u001b[0;32m<ipython-input-4-443963289>\u001b[0m in \u001b[0;36m<cell line: 0>\u001b[0;34m()\u001b[0m\n\u001b[1;32m      1\u001b[0m \u001b[0;31m# example of immutable data\u001b[0m\u001b[0;34m\u001b[0m\u001b[0;34m\u001b[0m\u001b[0m\n\u001b[1;32m      2\u001b[0m \u001b[0mmy_str\u001b[0m \u001b[0;34m=\u001b[0m \u001b[0;34m\"hello\"\u001b[0m\u001b[0;34m\u001b[0m\u001b[0;34m\u001b[0m\u001b[0m\n\u001b[0;32m----> 3\u001b[0;31m \u001b[0mmy_str\u001b[0m\u001b[0;34m[\u001b[0m\u001b[0;36m0\u001b[0m\u001b[0;34m]\u001b[0m \u001b[0;34m=\u001b[0m \u001b[0;34m\"H\"\u001b[0m\u001b[0;34m\u001b[0m\u001b[0;34m\u001b[0m\u001b[0m\n\u001b[0m\u001b[1;32m      4\u001b[0m \u001b[0mprint\u001b[0m\u001b[0;34m(\u001b[0m\u001b[0mmy_str\u001b[0m\u001b[0;34m)\u001b[0m\u001b[0;34m\u001b[0m\u001b[0;34m\u001b[0m\u001b[0m\n",
            "\u001b[0;31mTypeError\u001b[0m: 'str' object does not support item assignment"
          ]
        }
      ]
    },
    {
      "cell_type": "markdown",
      "source": [
        "3) Difference between lists and tuples in python?"
      ],
      "metadata": {
        "id": "VQHZL3E0gkA8"
      }
    },
    {
      "cell_type": "markdown",
      "source": [
        "ans: Lists are mutable whereas tuples are immutable. list syntax- [] and tuples syntex-(). list perform slower and tuples perform faster. lists are used in dynamic data whereas tuples are used in fixed data."
      ],
      "metadata": {
        "id": "BzK6oYqMgsyC"
      }
    },
    {
      "cell_type": "markdown",
      "source": [
        "4) Describe how dictionaries stores the data."
      ],
      "metadata": {
        "id": "1hCt1EwOhlcl"
      }
    },
    {
      "cell_type": "code",
      "source": [
        "# ans: Dictionaries stores data in key value pairs. Each key must be unique, and you can access the value by its key.\n",
        "#key:value\n",
        "my_dict = {\"name\": \"Samrudhi\", \"age\": 20}\n",
        "print(my_dict)"
      ],
      "metadata": {
        "colab": {
          "base_uri": "https://localhost:8080/"
        },
        "id": "LJ0WUQgJiIxS",
        "outputId": "4c5fb234-b00d-4f5a-9429-2422c2207bf0"
      },
      "execution_count": null,
      "outputs": [
        {
          "output_type": "stream",
          "name": "stdout",
          "text": [
            "{'name': 'Samrudhi', 'age': 20}\n"
          ]
        }
      ]
    },
    {
      "cell_type": "markdown",
      "source": [
        "5) Why might you use a set instead of a list in python?"
      ],
      "metadata": {
        "id": "YCx_q2rplakX"
      }
    },
    {
      "cell_type": "markdown",
      "source": [
        "ans: Sets are used when you want to store unique elements and don't care about the order. they are also faster than lists for membership tests. Also they don't allow duplicate elements."
      ],
      "metadata": {
        "id": "cOdkziDZlkxd"
      }
    },
    {
      "cell_type": "markdown",
      "source": [
        "6) what is string in python, how is it different from the lists?"
      ],
      "metadata": {
        "id": "R-2AbZ_CjHXr"
      }
    },
    {
      "cell_type": "markdown",
      "source": [
        "ans: A string is a immutable sequence of charaters, it represents and manipulates the textual data. Difference between string and list is that strings are immutable whereas the list are mutable.\n",
        "example of string is : \"Hello\".\n",
        "example of list is: [\"H\", \"e\", \"l\", \"l\", \"o\"]"
      ],
      "metadata": {
        "id": "eyVFMqC0jkTT"
      }
    },
    {
      "cell_type": "markdown",
      "source": [
        "7) How do tuples ensure data integrity in python?"
      ],
      "metadata": {
        "id": "0Ix62_wUlDBm"
      }
    },
    {
      "cell_type": "markdown",
      "source": [
        "ans: Tuples are immutable, which means once they are created, their values cannot be changed. This ensures data stored in tuples remians constant throughout the program, protecting it from accidential modification."
      ],
      "metadata": {
        "id": "00ZX48I4lDEL"
      }
    },
    {
      "cell_type": "markdown",
      "source": [
        "8) What is a hash table, and how does it relate to dictionaries in python?"
      ],
      "metadata": {
        "id": "f086DUT3nK8I"
      }
    },
    {
      "cell_type": "markdown",
      "source": [
        "ans: A hash table is a data structure that maps keys to values using a hash function. Python dictionaries use hash tables internally to store key-value pairs, allowing for fast and data retrieval."
      ],
      "metadata": {
        "id": "V7GCfc4SnoCH"
      }
    },
    {
      "cell_type": "markdown",
      "source": [
        "9) Can a lists contain different data types in python?"
      ],
      "metadata": {
        "id": "Y6HUYsEJoO2s"
      }
    },
    {
      "cell_type": "code",
      "source": [
        "# ans: Yes, lists in python can contain elements of different data types, such as integers, strings, and even other lists or objects.\n",
        "mixed_list = [1, \"hello\", 3.9, [2,4]]"
      ],
      "metadata": {
        "id": "JzFk4JnfoesD"
      },
      "execution_count": null,
      "outputs": []
    },
    {
      "cell_type": "markdown",
      "source": [
        "10) explain why strings are immutable in python."
      ],
      "metadata": {
        "id": "VdmdxEXQpD56"
      }
    },
    {
      "cell_type": "markdown",
      "source": [
        "ans: Strings are immutable for several reasons: a) improves performance and memory. b) allows hashing c) reduces unexpected behaviour by preventing unintended modification."
      ],
      "metadata": {
        "id": "L_rAiLcypY7y"
      }
    },
    {
      "cell_type": "markdown",
      "source": [
        "11) What advantages do dictionaries offer over lists for certain tasks?"
      ],
      "metadata": {
        "id": "m_OrHYdQsPD3"
      }
    },
    {
      "cell_type": "markdown",
      "source": [
        "ans: Dictionaries provide: a) fast lookup using keys. b)better for labelling data with meaningful keys. c) ideal for associative arrays."
      ],
      "metadata": {
        "id": "5EE7NdE3sbiX"
      }
    },
    {
      "cell_type": "markdown",
      "source": [
        "12) describe a scenario where using tuple is preferable over list."
      ],
      "metadata": {
        "id": "C0LseXfCtDjT"
      }
    },
    {
      "cell_type": "markdown",
      "source": [
        "ans: when data should not be change, such as coordinates, configuration settings, or function return values that should remain constant. Tuples are also faster than lists for iteration."
      ],
      "metadata": {
        "id": "0tT-MsC7tWEf"
      }
    },
    {
      "cell_type": "markdown",
      "source": [
        "13) How do sets handle duplicate values in python?"
      ],
      "metadata": {
        "id": "vq-_5Rdxt7V5"
      }
    },
    {
      "cell_type": "markdown",
      "source": [
        "ans: Sets automatically eliminate duplicates. Any duplicate item added to set is ignored."
      ],
      "metadata": {
        "id": "xNMus0iSuE9C"
      }
    },
    {
      "cell_type": "code",
      "source": [
        "s = {1,2,3,1,1,1,2,2}\n",
        "print(s)"
      ],
      "metadata": {
        "colab": {
          "base_uri": "https://localhost:8080/"
        },
        "id": "BV6-1LBIuU5Y",
        "outputId": "adf76496-4863-4742-ee37-be869eda7a5e"
      },
      "execution_count": null,
      "outputs": [
        {
          "output_type": "stream",
          "name": "stdout",
          "text": [
            "{1, 2, 3}\n"
          ]
        }
      ]
    },
    {
      "cell_type": "markdown",
      "source": [
        "14) How does the \"in\" keyword work differently for lists and dictionaries?"
      ],
      "metadata": {
        "id": "ARk_q9mouc39"
      }
    },
    {
      "cell_type": "markdown",
      "source": [
        "ans: For lists, \"in\" checks if a value exists in the list, whereas \"in\" in dictionaries checks if a key exits , not a value."
      ],
      "metadata": {
        "id": "mJP-L9mcuuzZ"
      }
    },
    {
      "cell_type": "markdown",
      "source": [
        "15) Can you modify the elements of tuple? Explain why or why not."
      ],
      "metadata": {
        "id": "Em5HmOcVvKmg"
      }
    },
    {
      "cell_type": "markdown",
      "source": [
        "ans: No, tuples are immutable. once created, their elements cannot be chnged or added or removed. this makes them suitable for constant and fixed data."
      ],
      "metadata": {
        "id": "X5ew5pO1vWup"
      }
    },
    {
      "cell_type": "markdown",
      "source": [
        "16) what is a nested dictionary, and give an example of its use case?"
      ],
      "metadata": {
        "id": "yzYqRGRMvxe6"
      }
    },
    {
      "cell_type": "code",
      "source": [
        "# ans: A nested dictionary is a dictionary inside another dictionary. Useful for storing hierarchical data like student records.\n",
        "student = {\n",
        "    \"name\" : \"samu\",\n",
        "    \"grades\" : {\"maths\":95, \"science\":92}\n",
        "}\n",
        "student = {\n",
        "    \"name\" : \"samu\",\n",
        "    \"grades\" : {\"maths\":95, \"science\":92}\n",
        "}"
      ],
      "metadata": {
        "id": "e7kwmLmIwFv_"
      },
      "execution_count": null,
      "outputs": []
    },
    {
      "cell_type": "markdown",
      "source": [
        "17) Describe the time complexity of accessing elements in a dictionary."
      ],
      "metadata": {
        "id": "pEmDVAccw8Oj"
      }
    },
    {
      "cell_type": "markdown",
      "source": [
        "ans: Accessing elements in a dictionary is O(1) on average due to hashing, meaning it's very fast regardless of the dictionary's size."
      ],
      "metadata": {
        "id": "hz_x9etDxtMp"
      }
    },
    {
      "cell_type": "markdown",
      "source": [
        "18) In what situations are lists preferred over dictionaries?"
      ],
      "metadata": {
        "id": "u2mHLDxmyMOx"
      }
    },
    {
      "cell_type": "markdown",
      "source": [
        "ans: lists are used over dictionaries when: a) order of elements matters. b) you need to store sequences or collections without key-value pairs. c) you perform many append or iteration operations."
      ],
      "metadata": {
        "id": "LPdocn2nyaqT"
      }
    },
    {
      "cell_type": "markdown",
      "source": [
        "19) Why are dictionaries considered unordered, and how does that affect data retrieval?"
      ],
      "metadata": {
        "id": "MTMkhRF4zJeA"
      }
    },
    {
      "cell_type": "markdown",
      "source": [
        "ans: Before python 3.7, dictionaries were unordered . from python 3.7 onward, they persive insertion order, but conceptually remain unordered as keys are stored via hashing."
      ],
      "metadata": {
        "id": "WVsJSg9XzYLw"
      }
    },
    {
      "cell_type": "markdown",
      "source": [
        "20) Explain the difference between a list and a dictionary in terms of data retrieval."
      ],
      "metadata": {
        "id": "yHO788xO0T2Z"
      }
    },
    {
      "cell_type": "markdown",
      "source": [
        "ans: lists: accessed by index.\n",
        "dictionary : accessed by key ."
      ],
      "metadata": {
        "id": "yQSueTNY0hFD"
      }
    },
    {
      "cell_type": "markdown",
      "source": [
        "PRACTICAL QUESTIONS"
      ],
      "metadata": {
        "id": "gHU-Ia9W00FH"
      }
    },
    {
      "cell_type": "code",
      "source": [
        "# 1) code to ceate a string with your name and print it.\n",
        "Name = \"Samrudhi\"\n",
        "print(Name)"
      ],
      "metadata": {
        "colab": {
          "base_uri": "https://localhost:8080/"
        },
        "id": "TS93fl601JAX",
        "outputId": "c17e20ff-8c1a-4ace-d109-7ee14afcaca5"
      },
      "execution_count": null,
      "outputs": [
        {
          "output_type": "stream",
          "name": "stdout",
          "text": [
            "Samrudhi\n"
          ]
        }
      ]
    },
    {
      "cell_type": "code",
      "source": [
        "# 2)code to find the length of the string \"Hello World\"\n",
        "text = \"Hello World\"\n",
        "print(len(text))"
      ],
      "metadata": {
        "colab": {
          "base_uri": "https://localhost:8080/"
        },
        "id": "7pNwmstD1lKY",
        "outputId": "cd04ee02-fb6c-401d-96ec-4bd19f5cf9c0"
      },
      "execution_count": null,
      "outputs": [
        {
          "output_type": "stream",
          "name": "stdout",
          "text": [
            "11\n"
          ]
        }
      ]
    },
    {
      "cell_type": "code",
      "source": [
        "# 3) code to slice 1st three characters from the string \"Python Programming\".\n",
        "text = \"Python Programming\"\n",
        "print(text[0:3])"
      ],
      "metadata": {
        "colab": {
          "base_uri": "https://localhost:8080/"
        },
        "id": "6er0Wmhb18pA",
        "outputId": "bdf680ca-ec5b-4ca8-9762-f7c063dfce17"
      },
      "execution_count": null,
      "outputs": [
        {
          "output_type": "stream",
          "name": "stdout",
          "text": [
            "Pyt\n"
          ]
        }
      ]
    },
    {
      "cell_type": "code",
      "source": [
        "# 4) code to convert string to uppercast\n",
        "text = \"hello\"\n",
        "print(text.upper())"
      ],
      "metadata": {
        "colab": {
          "base_uri": "https://localhost:8080/"
        },
        "id": "-zdDMRpF2Ys4",
        "outputId": "f31495bd-ef0f-4f70-9495-781a5fef679a"
      },
      "execution_count": null,
      "outputs": [
        {
          "output_type": "stream",
          "name": "stdout",
          "text": [
            "HELLO\n"
          ]
        }
      ]
    },
    {
      "cell_type": "code",
      "source": [
        "# 5) code to replace the word\n",
        "text = \"i like apple\"\n",
        "print(text.replace(\"apple\",\"orange\"))"
      ],
      "metadata": {
        "colab": {
          "base_uri": "https://localhost:8080/"
        },
        "id": "RSyYXOO02sRR",
        "outputId": "b73662d7-0c4f-4aec-ac4d-16a2e8e26116"
      },
      "execution_count": null,
      "outputs": [
        {
          "output_type": "stream",
          "name": "stdout",
          "text": [
            "i like orange\n"
          ]
        }
      ]
    },
    {
      "cell_type": "code",
      "source": [
        "# 6) code to create a list with numbers 1 to 5 and print it.\n",
        "numbers = [1,2,3,4,5]\n",
        "print(numbers)"
      ],
      "metadata": {
        "colab": {
          "base_uri": "https://localhost:8080/"
        },
        "id": "8G2-VDwh3d1i",
        "outputId": "7009163e-5b56-4969-d993-69c416746f0e"
      },
      "execution_count": null,
      "outputs": [
        {
          "output_type": "stream",
          "name": "stdout",
          "text": [
            "[1, 2, 3, 4, 5]\n"
          ]
        }
      ]
    },
    {
      "cell_type": "code",
      "source": [
        "# 7) code to append number 10 to the lists[1,2,3,4].\n",
        "my_list = [1,2,3,4]\n",
        "my_list.append(10)\n",
        "print(my_list)"
      ],
      "metadata": {
        "colab": {
          "base_uri": "https://localhost:8080/"
        },
        "id": "asrQ3ZmL3tk-",
        "outputId": "5d592d22-5b3b-466e-cba2-8d23ab8a6aaa"
      },
      "execution_count": null,
      "outputs": [
        {
          "output_type": "stream",
          "name": "stdout",
          "text": [
            "[1, 2, 3, 4, 10]\n"
          ]
        }
      ]
    },
    {
      "cell_type": "code",
      "source": [
        "# 8) code to remove the number 3 from the list[1,2,3,4,5].\n",
        "my_list = [1,2,3,4,5]\n",
        "my_list.remove(3)\n",
        "print(my_list)"
      ],
      "metadata": {
        "colab": {
          "base_uri": "https://localhost:8080/"
        },
        "id": "lLzQUkV44FpT",
        "outputId": "0e694047-1e3e-448e-f50d-45513b69c44c"
      },
      "execution_count": null,
      "outputs": [
        {
          "output_type": "stream",
          "name": "stdout",
          "text": [
            "[1, 2, 4, 5]\n"
          ]
        }
      ]
    },
    {
      "cell_type": "code",
      "source": [
        "#9) code to access 2nd element in the list['a', 'b', 'c', 'd']\n",
        "my_list = ['a', 'b', 'c', 'd']\n",
        "print(my_list[1])"
      ],
      "metadata": {
        "colab": {
          "base_uri": "https://localhost:8080/"
        },
        "id": "TzteYDsN4eVc",
        "outputId": "dd564610-8f49-406f-e730-70a12795a016"
      },
      "execution_count": null,
      "outputs": [
        {
          "output_type": "stream",
          "name": "stdout",
          "text": [
            "b\n"
          ]
        }
      ]
    },
    {
      "cell_type": "code",
      "source": [
        "# 10) code to reverse the list\n",
        "my_list = [10, 20, 30, 40, 50]\n",
        "my_list.reverse()\n",
        "print(my_list)"
      ],
      "metadata": {
        "colab": {
          "base_uri": "https://localhost:8080/"
        },
        "id": "zNLADtuF5Bkv",
        "outputId": "06400d84-0043-4d8e-be11-7c94ba2753c0"
      },
      "execution_count": null,
      "outputs": [
        {
          "output_type": "stream",
          "name": "stdout",
          "text": [
            "[50, 40, 30, 20, 10]\n"
          ]
        }
      ]
    },
    {
      "cell_type": "code",
      "source": [
        "# 11) create tuple and print it.\n",
        "my_tuple = (100,200,300)\n",
        "print(my_tuple)"
      ],
      "metadata": {
        "colab": {
          "base_uri": "https://localhost:8080/"
        },
        "id": "sfp2lnic9iH0",
        "outputId": "aa0200f8-0423-4a55-88b0-2cfa481f9ea9"
      },
      "execution_count": null,
      "outputs": [
        {
          "output_type": "stream",
          "name": "stdout",
          "text": [
            "(100, 200, 300)\n"
          ]
        }
      ]
    },
    {
      "cell_type": "code",
      "source": [
        "#12) access second to last element of tuple.\n",
        "colors = (\"red\", \"green\", \"blue\", \"yellow\")\n",
        "print(colors[-2])"
      ],
      "metadata": {
        "id": "wpdj7_5I9-Qz",
        "colab": {
          "base_uri": "https://localhost:8080/"
        },
        "outputId": "48af3c46-90d3-4778-a67e-4308cf48d70d"
      },
      "execution_count": null,
      "outputs": [
        {
          "output_type": "stream",
          "name": "stdout",
          "text": [
            "blue\n"
          ]
        }
      ]
    },
    {
      "cell_type": "code",
      "source": [
        "#13) min number in tuple\n",
        "numbers = (10, 20, 5, 15)\n",
        "print(min(numbers))"
      ],
      "metadata": {
        "colab": {
          "base_uri": "https://localhost:8080/"
        },
        "id": "TDXWkEGk_pCT",
        "outputId": "502ddd9c-96c6-47f6-f94c-e6e62b4c745e"
      },
      "execution_count": null,
      "outputs": [
        {
          "output_type": "stream",
          "name": "stdout",
          "text": [
            "5\n"
          ]
        }
      ]
    },
    {
      "cell_type": "code",
      "source": [
        "#14) find the index of element \"cat\" in the tuple\n",
        "animals = ('dog', 'cat', 'rabbit')\n",
        "print(animals.index(\"cat\"))"
      ],
      "metadata": {
        "colab": {
          "base_uri": "https://localhost:8080/"
        },
        "id": "U6tw6A7b_4MB",
        "outputId": "ff3359f7-f146-4f5f-aedd-7412e79bf5c5"
      },
      "execution_count": null,
      "outputs": [
        {
          "output_type": "stream",
          "name": "stdout",
          "text": [
            "1\n"
          ]
        }
      ]
    },
    {
      "cell_type": "code",
      "source": [
        "#15) create a tuple with 3 different fruits and check if \"kiwi\" is in it.\n",
        "fruits = ('apple', 'banana', 'cherry')\n",
        "print('kiwi' in fruits)"
      ],
      "metadata": {
        "colab": {
          "base_uri": "https://localhost:8080/"
        },
        "id": "n58ZMIGGAPFs",
        "outputId": "68c2766e-10fb-458c-dfef-e522badf13bf"
      },
      "execution_count": null,
      "outputs": [
        {
          "output_type": "stream",
          "name": "stdout",
          "text": [
            "False\n"
          ]
        }
      ]
    },
    {
      "cell_type": "code",
      "source": [
        "#16)create a set with elements and print it\n",
        "my_set = {'a', 'b', 'c'}\n",
        "print(my_set)"
      ],
      "metadata": {
        "colab": {
          "base_uri": "https://localhost:8080/"
        },
        "id": "qqp5r6SqAjvr",
        "outputId": "f3a601ac-6818-4d14-a700-62167531c1da"
      },
      "execution_count": null,
      "outputs": [
        {
          "output_type": "stream",
          "name": "stdout",
          "text": [
            "{'c', 'b', 'a'}\n"
          ]
        }
      ]
    },
    {
      "cell_type": "code",
      "source": [
        "# 17) clear all the elements from the set.\n",
        "my_set = {1, 2, 3, 4, 5}\n",
        "my_set.clear()\n",
        "print(my_set)"
      ],
      "metadata": {
        "colab": {
          "base_uri": "https://localhost:8080/"
        },
        "id": "SsQg8DJ0A_yo",
        "outputId": "07f1916a-b832-4ea8-8999-809f396b0528"
      },
      "execution_count": null,
      "outputs": [
        {
          "output_type": "stream",
          "name": "stdout",
          "text": [
            "set()\n"
          ]
        }
      ]
    },
    {
      "cell_type": "code",
      "source": [
        "# 18) remove element 4 from set\n",
        "s = {1, 2, 3, 4}\n",
        "s.remove(4)\n",
        "print(s)"
      ],
      "metadata": {
        "colab": {
          "base_uri": "https://localhost:8080/"
        },
        "id": "bnspFthBBlg7",
        "outputId": "cae0ae6c-7156-4a2c-a320-c97e546a08da"
      },
      "execution_count": null,
      "outputs": [
        {
          "output_type": "stream",
          "name": "stdout",
          "text": [
            "{1, 2, 3}\n"
          ]
        }
      ]
    },
    {
      "cell_type": "code",
      "source": [
        "# 19) find the union of two sets\n",
        "set1 = {1,2,3}\n",
        "set2 = {3,4,5}\n",
        "print(set1.union(set2))"
      ],
      "metadata": {
        "colab": {
          "base_uri": "https://localhost:8080/"
        },
        "id": "9ySnRZx2CAt0",
        "outputId": "86289ae5-6102-4dac-f7aa-52a3d815783a"
      },
      "execution_count": null,
      "outputs": [
        {
          "output_type": "stream",
          "name": "stdout",
          "text": [
            "{1, 2, 3, 4, 5}\n"
          ]
        }
      ]
    },
    {
      "cell_type": "code",
      "source": [
        "# 20) find intersection of two sets\n",
        "set1 = {1,2,3,4}\n",
        "set2 = {2,3,4}\n",
        "print(set1.intersection(set2))"
      ],
      "metadata": {
        "colab": {
          "base_uri": "https://localhost:8080/"
        },
        "id": "BsWWjV6aCW84",
        "outputId": "d8293d56-c4be-4de2-af4a-e59c801fdcff"
      },
      "execution_count": null,
      "outputs": [
        {
          "output_type": "stream",
          "name": "stdout",
          "text": [
            "{2, 3, 4}\n"
          ]
        }
      ]
    },
    {
      "cell_type": "code",
      "source": [
        "# 21) create a dictionary and print it.\n",
        "person = {\"name\": \"samrudhi\", \"age\": 20, \"city\": \"kolhapur\"}\n",
        "print(person)"
      ],
      "metadata": {
        "colab": {
          "base_uri": "https://localhost:8080/"
        },
        "id": "oQ-ihQCXCoq9",
        "outputId": "470ac763-44eb-4dcd-b380-ad02fab1688d"
      },
      "execution_count": null,
      "outputs": [
        {
          "output_type": "stream",
          "name": "stdout",
          "text": [
            "{'name': 'samrudhi', 'age': 20, 'city': 'kolhapur'}\n"
          ]
        }
      ]
    },
    {
      "cell_type": "code",
      "source": [
        "# 22) add new key-value pair\n",
        "person = {\"name\": \"john\", \"age\": 25}\n",
        "person[\"country\"] = \"USA\"\n",
        "print(person)"
      ],
      "metadata": {
        "colab": {
          "base_uri": "https://localhost:8080/"
        },
        "id": "xqrqJQezDFS_",
        "outputId": "18cf2176-246d-49fe-a71f-43eb91b840d4"
      },
      "execution_count": null,
      "outputs": [
        {
          "output_type": "stream",
          "name": "stdout",
          "text": [
            "{'name': 'john', 'age': 25, 'country': 'USA'}\n"
          ]
        }
      ]
    },
    {
      "cell_type": "code",
      "source": [
        "#23) code to access the value associated with the key \"name\" in dictionary\n",
        "person = {\"name\": \"alice\", \"age\": 30}\n",
        "print(person[\"name\"])"
      ],
      "metadata": {
        "id": "YhS__5TLDrIj",
        "colab": {
          "base_uri": "https://localhost:8080/"
        },
        "outputId": "ec28a1d3-e7de-4208-9576-1a4f63c226fa"
      },
      "execution_count": null,
      "outputs": [
        {
          "output_type": "stream",
          "name": "stdout",
          "text": [
            "alice\n"
          ]
        }
      ]
    },
    {
      "cell_type": "code",
      "source": [
        "#24) remove the key age\n",
        "person = {\"name\": \"Bob\", \"age\": 22, \"city\": \"New York\"}\n",
        "del person[\"age\"]\n",
        "print(person)"
      ],
      "metadata": {
        "colab": {
          "base_uri": "https://localhost:8080/"
        },
        "id": "m4ltEb2oFG2y",
        "outputId": "ca7f7971-1352-498b-8b39-d6a53d50826d"
      },
      "execution_count": null,
      "outputs": [
        {
          "output_type": "stream",
          "name": "stdout",
          "text": [
            "{'name': 'Bob', 'city': 'New York'}\n"
          ]
        }
      ]
    },
    {
      "cell_type": "code",
      "source": [
        "#25) check if the key \"city\" exists in the dictionary\n",
        "person = {\"name\": \"Alice\", \"city\": \"Paris\"}\n",
        "print(\"city\" in person)"
      ],
      "metadata": {
        "colab": {
          "base_uri": "https://localhost:8080/"
        },
        "id": "FBX5gm4QFhpq",
        "outputId": "708e14e7-93d0-41c5-e22b-780f8f23b5bc"
      },
      "execution_count": null,
      "outputs": [
        {
          "output_type": "stream",
          "name": "stdout",
          "text": [
            "True\n"
          ]
        }
      ]
    },
    {
      "cell_type": "code",
      "source": [
        "#26) create a lists , a tuple and a dictionary and print them all\n",
        "my_list =[1,2,3]\n",
        "my_tuple = (4,5,6)\n",
        "my_dict = {\"a\":7, \"b\":8}\n",
        "print(my_list, my_tuple, my_dict)"
      ],
      "metadata": {
        "colab": {
          "base_uri": "https://localhost:8080/"
        },
        "id": "YAvKwDGmF7OR",
        "outputId": "ad18403b-6ed9-4e6f-ce23-bbc34b1ea2e1"
      },
      "execution_count": null,
      "outputs": [
        {
          "output_type": "stream",
          "name": "stdout",
          "text": [
            "[1, 2, 3] (4, 5, 6) {'a': 7, 'b': 8}\n"
          ]
        }
      ]
    },
    {
      "cell_type": "code",
      "source": [
        "#27) create a list of 5 random numbers between 1 and 100, sort it in ascending order, and print the result.\n",
        "import random\n",
        "numbers = random.sample(range(1, 101), 5)\n",
        "numbers.sort()\n",
        "print(numbers)"
      ],
      "metadata": {
        "colab": {
          "base_uri": "https://localhost:8080/"
        },
        "id": "FGZ4MXTlGhv9",
        "outputId": "b04f6341-7423-46ea-8105-1900e952c955"
      },
      "execution_count": null,
      "outputs": [
        {
          "output_type": "stream",
          "name": "stdout",
          "text": [
            "[5, 46, 57, 77, 100]\n"
          ]
        }
      ]
    },
    {
      "cell_type": "code",
      "source": [
        "#28) create a list with string and print the element at the third index.\n",
        "my_list = [\"apple\", \"banana\", \"cherry\", \"date\"]\n",
        "print(my_list[3])"
      ],
      "metadata": {
        "colab": {
          "base_uri": "https://localhost:8080/"
        },
        "id": "KqiDQ2ONHM2a",
        "outputId": "44880653-9904-4676-f65d-2c0a7c1be2f3"
      },
      "execution_count": null,
      "outputs": [
        {
          "output_type": "stream",
          "name": "stdout",
          "text": [
            "date\n"
          ]
        }
      ]
    },
    {
      "cell_type": "code",
      "source": [
        "#29) combine two dictionaries into one and print the result\n",
        "dict1 = {\"a\": 1, \"b\":2}\n",
        "dict2 = {\"c\": 3, \"d\": 4}\n",
        "combined = {**dict1, **dict2}\n",
        "print(combined)"
      ],
      "metadata": {
        "colab": {
          "base_uri": "https://localhost:8080/"
        },
        "id": "T77KUISEHt4k",
        "outputId": "6c7e226e-baa2-45a2-a8c5-b53b15390388"
      },
      "execution_count": null,
      "outputs": [
        {
          "output_type": "stream",
          "name": "stdout",
          "text": [
            "{'a': 1, 'b': 2, 'c': 3, 'd': 4}\n"
          ]
        }
      ]
    },
    {
      "cell_type": "code",
      "source": [
        "# 30) convert a list of strings into a set.\n",
        "my_list = {\"apple\", \"banana\", \"apple\", \"apple\", \"cherry\"}\n",
        "my_set = set(my_list)\n",
        "print(my_set)"
      ],
      "metadata": {
        "colab": {
          "base_uri": "https://localhost:8080/"
        },
        "id": "BvliVZXqGfp-",
        "outputId": "e83019fa-7bcc-4d82-af6d-7ecb3cde7f62"
      },
      "execution_count": null,
      "outputs": [
        {
          "output_type": "stream",
          "name": "stdout",
          "text": [
            "{'banana', 'apple', 'cherry'}\n"
          ]
        }
      ]
    }
  ]
}